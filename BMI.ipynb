{
 "cells": [
  {
   "cell_type": "code",
   "execution_count": 2,
   "id": "7902638f-7ff8-44a8-93fe-849ffe16de73",
   "metadata": {},
   "outputs": [
    {
     "name": "stdin",
     "output_type": "stream",
     "text": [
      "height in meter 1.72\n",
      "weight in kg 87\n"
     ]
    },
    {
     "name": "stdout",
     "output_type": "stream",
     "text": [
      "29.40778799351001\n",
      "bmi is : 29.40778799351001\n",
      "heavy weight\n"
     ]
    }
   ],
   "source": [
    "# BMI(Body mass index) calculator: \n",
    "\n",
    "height = float(input(\"height in meter\"))\n",
    "weight = float(input(\"weight in kg\"))\n",
    "a = height*height\n",
    "bmi = (weight/a) \n",
    "print(bmi)\n",
    "print(\"bmi is :\",bmi)\n",
    "if bmi <= 18.5:\n",
    "    print(\"less weight\")\n",
    "elif bmi > 18.5 and bmi <=25:\n",
    "    print(\"normal weight\")\n",
    "elif bmi > 25 and bmi <=30:\n",
    "    print(\"heavy weight\")\n",
    "elif bmi > 30:\n",
    "    print(\"corpulent\")    # corpulent means excessively overweight:"
   ]
  },
  {
   "cell_type": "code",
   "execution_count": null,
   "id": "4c0b8661-02d7-4ee3-9d90-0ebc2a0e91a6",
   "metadata": {},
   "outputs": [],
   "source": []
  }
 ],
 "metadata": {
  "kernelspec": {
   "display_name": "Python 3 (ipykernel)",
   "language": "python",
   "name": "python3"
  },
  "language_info": {
   "codemirror_mode": {
    "name": "ipython",
    "version": 3
   },
   "file_extension": ".py",
   "mimetype": "text/x-python",
   "name": "python",
   "nbconvert_exporter": "python",
   "pygments_lexer": "ipython3",
   "version": "3.12.4"
  }
 },
 "nbformat": 4,
 "nbformat_minor": 5
}
